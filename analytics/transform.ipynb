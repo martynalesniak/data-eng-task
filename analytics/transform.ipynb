{
 "cells": [
  {
   "cell_type": "code",
   "execution_count": 2,
   "metadata": {},
   "outputs": [
    {
     "name": "stderr",
     "output_type": "stream",
     "text": [
      "C:\\Users\\marty\\AppData\\Local\\Temp\\ipykernel_4760\\451024427.py:1: DeprecationWarning: \n",
      "Pyarrow will become a required dependency of pandas in the next major release of pandas (pandas 3.0),\n",
      "(to allow more performant data types, such as the Arrow string type, and better interoperability with other libraries)\n",
      "but was not found to be installed on your system.\n",
      "If this would cause problems for you,\n",
      "please provide us feedback at https://github.com/pandas-dev/pandas/issues/54466\n",
      "        \n",
      "  import pandas as pd\n"
     ]
    }
   ],
   "source": [
    "import pandas as pd\n",
    "import psycopg2"
   ]
  },
  {
   "cell_type": "code",
   "execution_count": 3,
   "metadata": {},
   "outputs": [
    {
     "ename": "OperationalError",
     "evalue": "could not translate host name \"db\" to address: Nieznany host. \n",
     "output_type": "error",
     "traceback": [
      "\u001b[1;31m---------------------------------------------------------------------------\u001b[0m",
      "\u001b[1;31mOperationalError\u001b[0m                          Traceback (most recent call last)",
      "Cell \u001b[1;32mIn[3], line 1\u001b[0m\n\u001b[1;32m----> 1\u001b[0m conn \u001b[38;5;241m=\u001b[39m \u001b[43mpsycopg2\u001b[49m\u001b[38;5;241;43m.\u001b[39;49m\u001b[43mconnect\u001b[49m\u001b[43m(\u001b[49m\u001b[43mdatabase\u001b[49m\u001b[38;5;241;43m=\u001b[39;49m\u001b[38;5;124;43m\"\u001b[39;49m\u001b[38;5;124;43mmydatabase\u001b[39;49m\u001b[38;5;124;43m\"\u001b[39;49m\u001b[43m,\u001b[49m\n\u001b[0;32m      2\u001b[0m \u001b[43m                        \u001b[49m\u001b[43mhost\u001b[49m\u001b[38;5;241;43m=\u001b[39;49m\u001b[38;5;124;43m\"\u001b[39;49m\u001b[38;5;124;43mdb\u001b[39;49m\u001b[38;5;124;43m\"\u001b[39;49m\u001b[43m,\u001b[49m\n\u001b[0;32m      3\u001b[0m \u001b[43m                        \u001b[49m\u001b[43muser\u001b[49m\u001b[38;5;241;43m=\u001b[39;49m\u001b[38;5;124;43m\"\u001b[39;49m\u001b[38;5;124;43mmyuser\u001b[39;49m\u001b[38;5;124;43m\"\u001b[39;49m\u001b[43m,\u001b[49m\n\u001b[0;32m      4\u001b[0m \u001b[43m                        \u001b[49m\u001b[43mpassword\u001b[49m\u001b[38;5;241;43m=\u001b[39;49m\u001b[38;5;124;43m\"\u001b[39;49m\u001b[38;5;124;43mmypassword\u001b[39;49m\u001b[38;5;124;43m\"\u001b[39;49m\u001b[43m,\u001b[49m\n\u001b[0;32m      5\u001b[0m \u001b[43m                        \u001b[49m\u001b[43mport\u001b[49m\u001b[38;5;241;43m=\u001b[39;49m\u001b[38;5;124;43m\"\u001b[39;49m\u001b[38;5;124;43m5432\u001b[39;49m\u001b[38;5;124;43m\"\u001b[39;49m\u001b[43m)\u001b[49m\n",
      "File \u001b[1;32m~\\AppData\\Roaming\\Python\\Python312\\site-packages\\psycopg2\\__init__.py:122\u001b[0m, in \u001b[0;36mconnect\u001b[1;34m(dsn, connection_factory, cursor_factory, **kwargs)\u001b[0m\n\u001b[0;32m    119\u001b[0m     kwasync[\u001b[38;5;124m'\u001b[39m\u001b[38;5;124masync_\u001b[39m\u001b[38;5;124m'\u001b[39m] \u001b[38;5;241m=\u001b[39m kwargs\u001b[38;5;241m.\u001b[39mpop(\u001b[38;5;124m'\u001b[39m\u001b[38;5;124masync_\u001b[39m\u001b[38;5;124m'\u001b[39m)\n\u001b[0;32m    121\u001b[0m dsn \u001b[38;5;241m=\u001b[39m _ext\u001b[38;5;241m.\u001b[39mmake_dsn(dsn, \u001b[38;5;241m*\u001b[39m\u001b[38;5;241m*\u001b[39mkwargs)\n\u001b[1;32m--> 122\u001b[0m conn \u001b[38;5;241m=\u001b[39m \u001b[43m_connect\u001b[49m\u001b[43m(\u001b[49m\u001b[43mdsn\u001b[49m\u001b[43m,\u001b[49m\u001b[43m \u001b[49m\u001b[43mconnection_factory\u001b[49m\u001b[38;5;241;43m=\u001b[39;49m\u001b[43mconnection_factory\u001b[49m\u001b[43m,\u001b[49m\u001b[43m \u001b[49m\u001b[38;5;241;43m*\u001b[39;49m\u001b[38;5;241;43m*\u001b[39;49m\u001b[43mkwasync\u001b[49m\u001b[43m)\u001b[49m\n\u001b[0;32m    123\u001b[0m \u001b[38;5;28;01mif\u001b[39;00m cursor_factory \u001b[38;5;129;01mis\u001b[39;00m \u001b[38;5;129;01mnot\u001b[39;00m \u001b[38;5;28;01mNone\u001b[39;00m:\n\u001b[0;32m    124\u001b[0m     conn\u001b[38;5;241m.\u001b[39mcursor_factory \u001b[38;5;241m=\u001b[39m cursor_factory\n",
      "\u001b[1;31mOperationalError\u001b[0m: could not translate host name \"db\" to address: Nieznany host. \n"
     ]
    }
   ],
   "source": [
    "conn = psycopg2.connect(database=\"mydatabase\",\n",
    "                        host=\"db\",\n",
    "                        user=\"myuser\",\n",
    "                        password=\"mypassword\",\n",
    "                        port=\"5432\")"
   ]
  },
  {
   "cell_type": "code",
   "execution_count": null,
   "metadata": {},
   "outputs": [],
   "source": []
  },
  {
   "cell_type": "code",
   "execution_count": null,
   "metadata": {},
   "outputs": [],
   "source": [
    "def create_tables():\n",
    "    cursor = conn.cursor()\n",
    "    try:\n",
    "        cursor.execute(\"\"\"\n",
    "        CREATE TABLE IF NOT EXISTS links (\n",
    "            movieId INT PRIMARY KEY,\n",
    "            imdbId VARCHAR(10),\n",
    "            tmdbId INT\n",
    "        );\n",
    "        \"\"\")\n",
    "        \n",
    "        cursor.execute(\"\"\"\n",
    "        CREATE TABLE IF NOT EXISTS movies(\n",
    "            movieId INT PRIMARY KEY, \n",
    "            title VARCHAR(255),\n",
    "            genres TEXT\n",
    "        );\n",
    "        \"\"\")\n",
    "        \n",
    "        cursor.execute(\"\"\"\n",
    "        CREATE TABLE IF NOT EXISTS ratings(\n",
    "            userId INT,\n",
    "            movieId INT,\n",
    "            rating FLOAT,\n",
    "            timestamp INT,\n",
    "            PRIMARY KEY(userId, movieId)\n",
    "        );\n",
    "        \"\"\")\n",
    "        \n",
    "        cursor.execute(\"\"\"\n",
    "        CREATE TABLE IF NOT EXISTS tags(\n",
    "            userId INT,\n",
    "            movieId INT,\n",
    "            tag TEXT,\n",
    "            timestamp INT,\n",
    "            PRIMARY KEY (userId, movieId, tag)\n",
    "        );\n",
    "        \"\"\")\n",
    "        conn.commit()\n",
    "\n",
    "\n",
    "    except Exception as e:\n",
    "        conn.rollback()\n",
    "        print(f\"Error occurred: {e}\")\n",
    "    \n",
    "    finally:\n",
    "        cursor.close()\n"
   ]
  },
  {
   "cell_type": "code",
   "execution_count": null,
   "metadata": {},
   "outputs": [],
   "source": [
    "\n",
    "create_tables()"
   ]
  },
  {
   "cell_type": "code",
   "execution_count": null,
   "metadata": {},
   "outputs": [],
   "source": [
    "def load_data(path, data):\n",
    "    cursor = conn.cursor()\n",
    "    df = pd.read_csv(path)\n",
    "\n",
    "    try:\n",
    "        query = f\"SELECT COUNT(*) FROM {data}\"\n",
    "        cursor.execute(query)\n",
    "        row_count = cursor.fetchone()[0]\n",
    "        \n",
    "        if row_count > 0:\n",
    "            print(f\"The {data} table already contains data.\")\n",
    "            return\n",
    "\n",
    "        for i, row in df.iterrows():\n",
    "            if data == 'links':\n",
    "                query = \"INSERT INTO links (movieId, imdbId, tmdbId) VALUES (%s, %s, %s)\"\n",
    "                values = (int(row['movieId']), str(row['imdbId']), int(row['tmdbId']) if not pd.isnull(row['tmdbId']) else None)\n",
    "                cursor.execute(query, values)\n",
    "\n",
    "            elif data == 'movies':\n",
    "                query = \"INSERT INTO movies (movieId, title, genres) VALUES (%s, %s, %s)\"\n",
    "                values = (int(row['movieId']), str(row['title']), str(row['genres']))\n",
    "                cursor.execute(query, values)\n",
    "\n",
    "            elif data == 'ratings':\n",
    "                query = \"INSERT INTO ratings (userId, movieId, rating, timestamp) VALUES (%s, %s, %s, %s)\"\n",
    "                values = (int(row['userId']), int(row['movieId']), float(row['rating']), int(row['timestamp']))\n",
    "                cursor.execute(query, values)\n",
    "\n",
    "            elif data == 'tags':\n",
    "                query = \"INSERT INTO tags (userId, movieId, tag, timestamp) VALUES (%s, %s, %s, %s)\"\n",
    "                values = (int(row['userId']), int(row['movieId']), str(row['tag']), int(row['timestamp']))\n",
    "                cursor.execute(query, values)\n",
    "\n",
    "        conn.commit()\n",
    "\n",
    "    except Exception as e:\n",
    "        conn.rollback()\n",
    "        print(f\"Error loading data into {data} table: {e}\")\n",
    "\n",
    "    finally:\n",
    "        cursor.close()\n",
    "\n"
   ]
  },
  {
   "cell_type": "code",
   "execution_count": null,
   "metadata": {},
   "outputs": [],
   "source": [
    "load_data('ml-latest-small/movies.csv', 'movies')\n",
    "load_data('ml-latest-small/ratings.csv', 'ratings')\n",
    "load_data('ml-latest-small/tags.csv', 'tags')\n",
    "load_data('ml-latest-small/links.csv', 'links')"
   ]
  },
  {
   "cell_type": "code",
   "execution_count": null,
   "metadata": {},
   "outputs": [],
   "source": [
    "def count_movies():\n",
    "    cursor = conn.cursor()\n",
    "    cursor.execute(\"SELECT COUNT * FROM MOVIES\")\n",
    "    movies_count = cursor.fetchone()[0]\n",
    "    cursor.close()\n",
    "    return movies_count\n"
   ]
  },
  {
   "cell_type": "code",
   "execution_count": null,
   "metadata": {},
   "outputs": [],
   "source": [
    "def most_common_genre():\n",
    "    cursor = conn.cursor()\n",
    "    cursor.execute(\"SELECT genre FROM movies\")\n",
    "    rows = cursor.fetchall()\n",
    "\n",
    "    genre_counts = {}\n",
    "    for (genre,) in rows:\n",
    "        genres = genre.split('|')\n",
    "        for g in genres:\n",
    "            g = g.strip()\n",
    "            if g:\n",
    "                genre_counts[g] = genre_counts.get(g, 0) + 1\n",
    "    most_common = max(genre_counts.items(), key=lambda item: item[1], default=None)\n",
    "    cursor.close()\n",
    "    return most_common\n",
    "    "
   ]
  },
  {
   "cell_type": "code",
   "execution_count": null,
   "metadata": {},
   "outputs": [],
   "source": [
    "def top_10_movies():\n",
    "    cursor = conn.cursor()\n",
    "    cursor.execute(\"\"\"\n",
    "    SELECT m.title, AVG(r.rating) AS average_rating\n",
    "    FROM movies m\n",
    "    JOIN ratings r ON m.movieId = r.movieId\n",
    "    GROUP BY m.title\n",
    "    ORDER BY average_rating DESC\n",
    "    LIMIT 10;\"\"\")\n",
    "    top_10 = cursor.fetchall()\n",
    "    if top_10:\n",
    "        for movie in top_10:\n",
    "            title, rating = movie\n",
    "            print(f\"Title: {title}, Rating: {rating:.2f}\")\n",
    "    cursor.close()\n",
    "    return top_10\n",
    "    "
   ]
  },
  {
   "cell_type": "code",
   "execution_count": null,
   "metadata": {},
   "outputs": [],
   "source": [
    "def most_often_rating_users():\n",
    "    cursor = conn.cursor()\n",
    "    cursor.execute(\"\"\"\n",
    "    SELECT userId, COUNT(*) AS rating_count\n",
    "    FROM ratings\n",
    "    GROUP BY userId\n",
    "    ORDER BY rating_count DESC;\n",
    "    \"\"\")\n",
    "    top_users = cursor.fetchall()\n",
    "    if top_users:\n",
    "        for user in top_users:\n",
    "            userid, rating_count = user\n",
    "            print(f\"UserId: {userid}, Rating count: {rating_count}\")\n",
    "    cursor.close()\n",
    "    return top_users"
   ]
  },
  {
   "cell_type": "code",
   "execution_count": null,
   "metadata": {},
   "outputs": [],
   "source": [
    "def first_and_last_ratings():\n",
    "    cursor = conn.cursor()\n",
    "    cursor.execute(\"\"\"\n",
    "        SELECT m.title, TO_TIMESTAMP(r.timestamp) :: DATE AS review_date\n",
    "        FROM ratings r\n",
    "        JOIN movies m ON r.movieId = m.movieId;\n",
    "        \"\"\")\n",
    "    ratings = cursor.fetchall()\n",
    "    first_rating = min(ratings, key=lambda x: x[1])\n",
    "    last_rating = max(ratings, key=lambda x: x[1])\n",
    "    print(f\"First Review: Title: {first_review[0]}, Date: {first_review[1]}\")\n",
    "    print(f\"Last Review: Title: {last_review[0]}, Date: {last_review[1]}\")\n",
    "    cursor.close()\n",
    "    return first_rating, last_rating"
   ]
  },
  {
   "cell_type": "code",
   "execution_count": null,
   "metadata": {},
   "outputs": [],
   "source": [
    "def movies_released_in_1990():\n",
    "    cursor = conn.cursor()\n",
    "    cursor.execute(\"\"\"\n",
    "    WITH movie_years AS (\n",
    "    SELECT title, CAST(REGEXP_MATCHES(title, '\\((\\d{4})\\)')[1] AS INTEGER) AS year\n",
    "    FROM movies\n",
    "    WHERE \n",
    "        title LIKE '%(%'\n",
    "    )\n",
    "    SELECT title, year\n",
    "    FROM movie_years\n",
    "    WHERE year = 1990\n",
    "    \"\"\")\n",
    "    movies_1990 = cursor.fetchall()\n",
    "    if movies_1990:\n",
    "        for movie in movies_1990:\n",
    "            title, year =movie\n",
    "            print(f\"Title: {title}, Year: {year}\")\n",
    "    cursor.close()\n",
    "    return movies_1990\n"
   ]
  }
 ],
 "metadata": {
  "kernelspec": {
   "display_name": "Python 3",
   "language": "python",
   "name": "python3"
  },
  "language_info": {
   "codemirror_mode": {
    "name": "ipython",
    "version": 3
   },
   "file_extension": ".py",
   "mimetype": "text/x-python",
   "name": "python",
   "nbconvert_exporter": "python",
   "pygments_lexer": "ipython3",
   "version": "3.12.1"
  }
 },
 "nbformat": 4,
 "nbformat_minor": 2
}
